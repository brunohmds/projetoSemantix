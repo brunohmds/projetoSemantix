{
 "cells": [
  {
   "cell_type": "markdown",
   "metadata": {},
   "source": [
    "# Projeto Semantix Big Data Engineer"
   ]
  },
  {
   "cell_type": "markdown",
   "metadata": {},
   "source": [
    "### Questão 1\n",
    "Enviar os dados para o HDFS"
   ]
  },
  {
   "cell_type": "code",
   "execution_count": null,
   "metadata": {},
   "outputs": [],
   "source": [
    "# Em um terminal, primeiro baixar os dados do projeto para a pasta spark do treinamento\n",
    "\n",
    "# sudo curl -O https://mobileapps.saude.gov.br/esus-vepi/files/unAFkcaNDeXajurGB7LChj8SgQYS2ptm/04bd3419b22b9cc5c6efac2c6528100d_HIST_PAINEL_COVIDBR_06jul2021.rar"
   ]
  },
  {
   "cell_type": "code",
   "execution_count": null,
   "metadata": {},
   "outputs": [],
   "source": [
    "# Em seguida, descompactar o arquivo formato .rar\n",
    "\n",
    "# sudo unrar x 04bd3419b22b9cc5c6efac2c6528100d_HIST_PAINEL_COVIDBR_06jul2021.rar"
   ]
  },
  {
   "cell_type": "code",
   "execution_count": null,
   "metadata": {},
   "outputs": [],
   "source": [
    "# Enviar os arquivos .csv descompactados para o diretório input dentro da pasta spark\n",
    "\n",
    "# sudo mv *.csv /home/bruno/spark/input"
   ]
  },
  {
   "cell_type": "code",
   "execution_count": null,
   "metadata": {},
   "outputs": [],
   "source": [
    "# Acessar o namenode\n",
    "\n",
    "# docker exec -it namenode bash"
   ]
  },
  {
   "cell_type": "code",
   "execution_count": null,
   "metadata": {},
   "outputs": [],
   "source": [
    "# Criar uma pasta no HDFS para salvar os arquivos .csv\n",
    "\n",
    "# hdfs dfs -mkdir -p /user/bruno/projeto/covid19"
   ]
  },
  {
   "cell_type": "code",
   "execution_count": null,
   "metadata": {},
   "outputs": [],
   "source": [
    "# Enviar os arquivos .csv para a pasta recentemente criada\n",
    "\n",
    "# hdfs dfs -put /input/*.csv /user/bruno/projeto/covid19"
   ]
  },
  {
   "cell_type": "code",
   "execution_count": null,
   "metadata": {},
   "outputs": [],
   "source": [
    "# Verificar se os arquivos foram enviados corretamente\n",
    "\n",
    "!hdfs dfs -ls /user/bruno/projeto/covid19"
   ]
  },
  {
   "cell_type": "markdown",
   "metadata": {},
   "source": [
    "### Questão 2\n",
    "Otimizar todos os dados do hdfs para uma tabela Hive particionada por \n",
    "município"
   ]
  },
  {
   "cell_type": "code",
   "execution_count": null,
   "metadata": {},
   "outputs": [],
   "source": [
    "from pyspark.sql.types import *\n",
    "from pyspark.sql.functions import *"
   ]
  },
  {
   "cell_type": "code",
   "execution_count": null,
   "metadata": {},
   "outputs": [],
   "source": [
    "# Criando Spark Session\n",
    "\n",
    "spark = SparkSession.builder.appName(\"Projeto do treinamento de Big Data Engineer da Semantix\").getOrCreate()"
   ]
  },
  {
   "cell_type": "code",
   "execution_count": null,
   "metadata": {
    "scrolled": false
   },
   "outputs": [],
   "source": [
    "# Verificar como está estruturado o arquivo\n",
    "# Importante para saber como será feita a leitura do mesmo\n",
    "\n",
    "!hdfs dfs -cat /user/bruno/projeto/covid19/HIST_PAINEL_COVIDBR_2020_Parte1_06jul2021.csv"
   ]
  },
  {
   "cell_type": "code",
   "execution_count": null,
   "metadata": {},
   "outputs": [],
   "source": [
    "# Como visto anteriormente, o arquivo contém um cabeçalho e está separado por ;\n",
    "# Agora vamos ler esses arquivos e armazená-los em um dataframe\n",
    "\n",
    "painel_covid = spark.read.csv(\"/user/bruno/projeto/covid19\", sep=\";\", header=True)"
   ]
  },
  {
   "cell_type": "code",
   "execution_count": null,
   "metadata": {},
   "outputs": [],
   "source": [
    "# Mostrando os 5 primeiros dados do dataframe\n",
    "\n",
    "painel_covid.show(5)"
   ]
  },
  {
   "cell_type": "code",
   "execution_count": null,
   "metadata": {},
   "outputs": [],
   "source": [
    "# Mostrando o schema do dataframe\n",
    "\n",
    "painel_covid.printSchema()"
   ]
  },
  {
   "cell_type": "code",
   "execution_count": null,
   "metadata": {},
   "outputs": [],
   "source": [
    "# Otimizar os dados por tabelas, particionadas por município\n",
    "\n",
    "painel_covid.write.saveAsTable(\"dados_covid_municipio\", mode=\"overwrite\",partitionBy=\"municipio\")"
   ]
  },
  {
   "cell_type": "code",
   "execution_count": null,
   "metadata": {},
   "outputs": [],
   "source": [
    "# Confirmar se os dados foram salvos corretamente no diretório\n",
    "\n",
    "!hdfs dfs -ls \"hdfs://namenode:8020/user/hive/warehouse/\""
   ]
  },
  {
   "cell_type": "markdown",
   "metadata": {},
   "source": [
    "\n",
    "### Questão 3\n",
    "Criar as 3 vizualizações pelo Spark com os dados enviados para o HDFS"
   ]
  },
  {
   "cell_type": "code",
   "execution_count": null,
   "metadata": {},
   "outputs": [],
   "source": [
    "# 1: Mostrando o total de casos recuperados confirmados\n",
    "\n",
    "casos_recuperados_confirmados = painel_covid.select(max(\"Recuperadosnovos\").alias(\"Casos_recuperados_confirmados\"))\n",
    "casos_recuperados_confirmados.show()"
   ]
  },
  {
   "cell_type": "code",
   "execution_count": null,
   "metadata": {},
   "outputs": [],
   "source": [
    "# 2: Contabilizando a quantidade de casos acumulados, separados por Região\n",
    "\n",
    "casos_acumulados_regiao = painel_covid.groupBy(\"regiao\").agg(count(\"casosAcumulado\").alias(\"Casos_acumulados\"))\n",
    "casos_acumulados_regiao.show()"
   ]
  },
  {
   "cell_type": "code",
   "execution_count": null,
   "metadata": {},
   "outputs": [],
   "source": [
    "# 3: Contabilizando a quantidade de óbitos acumulados por Estado\n",
    "\n",
    "obitos_acumulados_estado = painel_covid.groupBy(\"estado\").agg(count(\"obitosAcumulado\").alias(\"Óbitos_acumulados\"))\n",
    "obitos_acumulados_estado.show()"
   ]
  },
  {
   "cell_type": "markdown",
   "metadata": {},
   "source": [
    "### Questão 4\n",
    "Salvar a primeira visualização como tabela Hive"
   ]
  },
  {
   "cell_type": "code",
   "execution_count": null,
   "metadata": {},
   "outputs": [],
   "source": [
    "casos_recuperados_confirmados.write.format(\"csv\").saveAsTable(\"Casos_Recuperados\")"
   ]
  },
  {
   "cell_type": "code",
   "execution_count": null,
   "metadata": {},
   "outputs": [],
   "source": [
    "# Para confirmar que foi salvo\n",
    "\n",
    "spark.read.table(\"Casos_Recuperados\").show()"
   ]
  },
  {
   "cell_type": "markdown",
   "metadata": {},
   "source": [
    "### Questão 5\n",
    "Salvar a segunda visualização com formato parquet e compressão snappy"
   ]
  },
  {
   "cell_type": "code",
   "execution_count": null,
   "metadata": {},
   "outputs": [],
   "source": [
    "casos_acumulados_regiao.write.option(\"compression\", \"snappy\").parquet(\"/user/bruno/projeto/covid19/dados/casos_acumulados_regiao\")\n"
   ]
  },
  {
   "cell_type": "code",
   "execution_count": null,
   "metadata": {},
   "outputs": [],
   "source": [
    "# Para confirmar que foi salvo\n",
    "\n",
    "!hdfs dfs -ls \"/user/bruno/projeto/covid19/dados/casos_acumulados_regiao\""
   ]
  },
  {
   "cell_type": "markdown",
   "metadata": {},
   "source": [
    "### Questão 6\n",
    "Salvar a terceira visualização em um tópico no Kafka"
   ]
  },
  {
   "cell_type": "code",
   "execution_count": null,
   "metadata": {},
   "outputs": [],
   "source": [
    "obitos_acumulados_estado.selectExpr(\"to_json(struct(*)) As value\").write.format(\"kafka\").option(\"kafka.bootstrap.servers\",\"kafka:9092\").option(\"topic\", \"topico_obitos_acumulados_estado\").save()\n",
    "\n",
    "# Para verificar, basta acessar kafka pelo terminal, com o comando 'docker exec -it kafka bash'\n",
    "# e em seguida digitar o comando 'kafka-topics.sh --bootstrap-server kafka:9092 --list'\n",
    "# O novo tópico criado 'topico_obitos_acumulados_estado' está na listagem"
   ]
  },
  {
   "attachments": {
    "kafka.jpg": {
     "image/jpeg": "[encoded data removed]"
    }
   },
   "cell_type": "markdown",
   "metadata": {},
   "source": [
    "![kafka.jpg](attachment:kafka.jpg)"
   ]
  },
  {
   "cell_type": "markdown",
   "metadata": {},
   "source": [
    "### Questão 7\n",
    "Criar a visualização pelo Spark com os dados enviados para o HDFS:"
   ]
  },
  {
   "cell_type": "code",
   "execution_count": null,
   "metadata": {},
   "outputs": [],
   "source": [
    "# Primeiro, mostrando as tabelas criadas.\n",
    "# Desconsiderar a repetição da tabela \"casos_recuperados_confirmados, pois foi dado o comando duas vezes durante o exercício\n",
    "# Também desconsiderar a tabela juros, pois é de outro exercício ao longo do treinamento\n",
    "\n",
    "spark.sql(\"SHOW TABLES\").show()"
   ]
  },
  {
   "cell_type": "code",
   "execution_count": null,
   "metadata": {},
   "outputs": [],
   "source": [
    "spark.sql(\"SELECT * from casos_recuperados\").show(10)"
   ]
  }
 ],
 "metadata": {
  "kernelspec": {
   "display_name": "PySpark",
   "language": "python",
   "name": "pyspark"
  },
  "language_info": {
   "codemirror_mode": {
    "name": "ipython",
    "version": 3
   },
   "file_extension": ".py",
   "mimetype": "text/x-python",
   "name": "python",
   "nbconvert_exporter": "python",
   "pygments_lexer": "ipython3",
   "version": "3.6.10"
  }
 },
 "nbformat": 4,
 "nbformat_minor": 2
}
